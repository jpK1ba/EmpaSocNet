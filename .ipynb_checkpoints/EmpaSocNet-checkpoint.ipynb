{
 "cells": [
  {
   "cell_type": "markdown",
   "id": "c3b34282",
   "metadata": {},
   "source": [
    "***\n",
    "<div class=\"center\" style=\"padding: 1px; height: 70px; background: black; text-align: center;\">\n",
    "    <h2 style=\"font-family:Copperplate, Papyrus, fantasy;\n",
    "               font-size:30px;\n",
    "               font-style:bold;\n",
    "               color:white;\">\n",
    "        Emphatic Social Choice Implementation for Group Concensus</h2>\n",
    "</div>\n",
    "\n",
    "***\n",
    "by : JP Fabrero"
   ]
  },
  {
   "cell_type": "markdown",
   "id": "669f70d2",
   "metadata": {},
   "source": [
    "***\n",
    "<div class=\"center\" style=\"padding: 1px; height: 60px; background: black;\">\n",
    "    <h2 style=\"font-family:Copperplate, Papyrus, fantasy;\n",
    "               font-size:30px;\n",
    "               margin: 15px;\n",
    "               font-style:bold;\n",
    "               color:white;\">\n",
    "        Introduction\n",
    "    </h2>\n",
    "</div>\n",
    "\n",
    "***\n",
    "Throughout history, humans have proven themselves to be highly social beings. This remarkable ability to connect and empathize has contributed to our collective strength and success as a species. However, even amidst our admirable social nature and recurring interactions, we often encounter delightful and timeless challenge, selecting a restaurant for the group.\n",
    "\n",
    "In this blog, I explore the intricate interplay of human social behavior and our proclivity to consider each other's preferences in making different interactive decisions. Delving into the captivating dynamics of group decision-making, we will uncover the essential role of compromise and empathy in harmoniously satisfying everyone's welfare.\n",
    "\n",
    "Using anonymised data of AIM-ASITE MSDS 2023 Male Dormers, I aim to demostrate this specific social dynamic through use of Network Analysis and Social Choice Theory."
   ]
  },
  {
   "cell_type": "markdown",
   "id": "bfb4cc7d-8090-4367-a680-3168662b35ec",
   "metadata": {},
   "source": [
    "***\n",
    "<div class=\"center\" style=\"padding: 1px; height: 60px; background: black;\">\n",
    "    <h2 style=\"font-family:Copperplate, Papyrus, fantasy;\n",
    "               font-size:30px;\n",
    "               margin: 15px;\n",
    "               font-style:bold;\n",
    "               color:white;\">\n",
    "        Background\n",
    "    </h2>\n",
    "</div>\n",
    "\n",
    "***\n",
    "<br>\n",
    "<div class=\"center\" style=\"padding: 1px; height: 40px; background: #111111;\">\n",
    "    <h3 style=\"font-family:Copperplate, Papyrus, fantasy;\n",
    "               font-size:20px;\n",
    "               margin: 10px;\n",
    "               font-style:bold;\n",
    "               color:white;\">\n",
    "        Network Analysis\n",
    "    </h3>\n",
    "</div>\n",
    "<br>\n",
    "\n",
    "Network analysis, also known as social network analysis (SNA), is a captivating field that examines the relationships and interactions between individuals, groups, or organizations. Network analysis has found applications in diverse fields, providing insights into information dissemination, influence, and resource flow within interconnected systems. In this context of decision-making for restaurant choices, I will leverage network analysis to offer valuable insights into group dynamics and preferences, uncovering patterns that influence collective decisions. Through this lens, we can better understand the complexities of our social nature.\n",
    "\n",
    "<br>\n",
    "<div class=\"center\" style=\"padding: 1px; height: 40px; background: #111111;\">\n",
    "    <h3 style=\"font-family:Copperplate, Papyrus, fantasy;\n",
    "               font-size:20px;\n",
    "               margin: 10px;\n",
    "               font-style:bold;\n",
    "               color:white;\">\n",
    "        Social Choice\n",
    "    </h3>\n",
    "</div>\n",
    "<br>\n",
    "\n",
    "Social choice theory is the study of collective decision procedures and mechanisms. It is not a single theory, but a cluster of models and results concerning the aggregation of individual inputs (e.g., votes, preferences, judgments, welfare) into collective outputs (e.g., collective decisions, preferences, judgments, welfare)[1]. Most Social Choice frameworks, however, aim to make the dynamic of voting 'anonymous' - that each individual's vote carries the same weight and is considered equally in reaching a concensus.\n",
    "\n",
    "In social networks, we acknowledge that there are specific nodes, or this context - persons, that are more influential or central to the final decision. One particular demonstration of this is being more considerate to people whom you don't get to see often or hangout together with.\n",
    "\n",
    "<br>\n",
    "<div class=\"center\" style=\"padding: 1px; height: 40px; background: #111111;\">\n",
    "    <h3 style=\"font-family:Copperplate, Papyrus, fantasy;\n",
    "               font-size:20px;\n",
    "               margin: 10px;\n",
    "               font-style:bold;\n",
    "               color:white;\">\n",
    "        Emphatic Social Choice\n",
    "    </h3>\n",
    "</div>\n",
    "<br>\n",
    "\n",
    "Emphatic Social Choice explores that notion that while individuals have personal preferences over a set of choices, there exists a consideration for the “happiness” of their neighbors.[2] This framework allows us to capture real-world networks wherein healthy relationships are paramount for long-term harmony such as in dormers living in close quarters with each other.\n",
    "\n"
   ]
  },
  {
   "cell_type": "markdown",
   "id": "97fe4f62-2e4c-4e5f-8793-01a89502bdc4",
   "metadata": {},
   "source": [
    "***\n",
    "<div class=\"center\" style=\"padding: 1px; height: 60px; background: black;\">\n",
    "    <h2 style=\"font-family:Copperplate, Papyrus, fantasy;\n",
    "               font-size:30px;\n",
    "               margin: 15px;\n",
    "               font-style:bold;\n",
    "               color:white;\">\n",
    "        Analysis\n",
    "    </h2>\n",
    "</div>\n",
    "\n",
    "***\n",
    "<br>\n",
    "<div class=\"center\" style=\"padding: 1px; height: 40px; background: #111111;\">\n",
    "    <h3 style=\"font-family:Copperplate, Papyrus, fantasy;\n",
    "               font-size:20px;\n",
    "               margin: 10px;\n",
    "               font-style:bold;\n",
    "               color:white;\">\n",
    "        Importing Libraries and Utility Functions\n",
    "    </h3>\n",
    "</div>\n",
    "<br>\n",
    "\n",
    "For this project, I made a lot scripts with utility functions for the various necessary steps. I've imported them here, along with some other libraries."
   ]
  },
  {
   "cell_type": "code",
   "execution_count": 1,
   "id": "ccd9b145",
   "metadata": {
    "ExecuteTime": {
     "end_time": "2023-06-29T13:18:30.736794Z",
     "start_time": "2023-06-29T13:18:27.327754Z"
    },
    "code_folding": [],
    "execution": {
     "iopub.execute_input": "2023-08-06T15:11:39.346769Z",
     "iopub.status.busy": "2023-08-06T15:11:39.345749Z",
     "iopub.status.idle": "2023-08-06T15:11:40.224655Z",
     "shell.execute_reply": "2023-08-06T15:11:40.223513Z",
     "shell.execute_reply.started": "2023-08-06T15:11:39.346703Z"
    },
    "tags": []
   },
   "outputs": [],
   "source": [
    "# Importing the necessary libraries and functions\n",
    "import numpy as np\n",
    "import pandas as pd\n",
    "import networkx as nx\n",
    "import matplotlib.pyplot as plt\n",
    "\n",
    "from utils.pyjanitor import auto_toc\n",
    "from utils.pickling import load_pkl, save_pkl\n",
    "from utils.network import *\n",
    "\n",
    "# For cleanliness\n",
    "import warnings\n",
    "warnings.filterwarnings('ignore')"
   ]
  },
  {
   "cell_type": "markdown",
   "id": "b39be43d-5911-4eae-b9bd-e3115c52467e",
   "metadata": {},
   "source": [
    "<br>\n",
    "<div class=\"center\" style=\"padding: 1px; height: 40px; background: #111111;\">\n",
    "    <h3 style=\"font-family:Copperplate, Papyrus, fantasy;\n",
    "               font-size:20px;\n",
    "               margin: 10px;\n",
    "               font-style:bold;\n",
    "               color:white;\">\n",
    "        Defining the Networks\n",
    "    </h3>\n",
    "</div>\n",
    "<br>\n",
    "\n",
    "For the Analysis, we first define Social Network of Dormers. For their safety and privacy, the names are anonymised. Below is the set of AIM-ASITE MSDS 2023 Male Dormers, $D$:\n",
    "\n",
    "\\begin{align}\n",
    "D = \\text{\\{pajamas, bus, bread, lyric, paris, coin\\}}\n",
    "\\end{align}\n",
    "\n",
    "Then define the Proximity Matrix, P, such that $p_{i,j}$ represents the amount of consideration $i$ and $j$ have for each other based on their proximity.\n",
    "\n",
    "\\begin{align}\n",
    "p_{i,j} = \n",
    "\\begin{cases}\n",
    "    1 & \\text{if } \\text{i = j (self-consideration)}, \\\\\n",
    "    1.5 & \\text{if } \\text{i and j live in the same floor}, \\\\\n",
    "    2 & \\text{if } \\text{i and j live in the same room}, \\\\\n",
    "    3 & \\text{if } \\text{i and j live in the same room and sleep in the same wing} \\\\\n",
    "\\end{cases}\n",
    "\\end{align}"
   ]
  },
  {
   "cell_type": "code",
   "execution_count": 2,
   "id": "3dd64598-41ff-4fc3-a2a4-1ec3c74a1c43",
   "metadata": {
    "execution": {
     "iopub.execute_input": "2023-08-06T15:11:40.227077Z",
     "iopub.status.busy": "2023-08-06T15:11:40.226533Z",
     "iopub.status.idle": "2023-08-06T15:11:40.232330Z",
     "shell.execute_reply": "2023-08-06T15:11:40.230957Z",
     "shell.execute_reply.started": "2023-08-06T15:11:40.227049Z"
    },
    "tags": []
   },
   "outputs": [],
   "source": [
    "# List of Dormers\n",
    "dormers = ['pajamas', 'bus', 'bread', 'lyric', 'paris', 'coin']"
   ]
  },
  {
   "cell_type": "code",
   "execution_count": 3,
   "id": "d7564d1b-3582-4977-82f5-5e03a6223e11",
   "metadata": {
    "execution": {
     "iopub.execute_input": "2023-08-06T15:11:40.233965Z",
     "iopub.status.busy": "2023-08-06T15:11:40.233688Z",
     "iopub.status.idle": "2023-08-06T15:11:40.301779Z",
     "shell.execute_reply": "2023-08-06T15:11:40.300756Z",
     "shell.execute_reply.started": "2023-08-06T15:11:40.233938Z"
    },
    "tags": []
   },
   "outputs": [
    {
     "data": {
      "text/html": [
       "<center><style type=\"text/css\">\n",
       "#T_6b6a9 th.col_heading {\n",
       "  background-color: black;\n",
       "  color: white;\n",
       "  text-align: center;\n",
       "}\n",
       "#T_6b6a9 td {\n",
       "  background-color: white;\n",
       "  color: black;\n",
       "  text-align: center;\n",
       "}\n",
       "#T_6b6a9 tr {\n",
       "  border-left: 1px solid black;\n",
       "  border-right: 1px solid black;\n",
       "  border-bottom: 1px solid black;\n",
       "}\n",
       "#T_6b6a9 td {\n",
       "  border-left: 1px solid black;\n",
       "  border-right: 1px solid black;\n",
       "  border-bottom: 1px solid black;\n",
       "}\n",
       "</style>\n",
       "<table id=\"T_6b6a9\">\n",
       "  <thead>\n",
       "    <tr>\n",
       "      <th id=\"T_6b6a9_level0_col0\" class=\"col_heading level0 col0\" >dormers</th>\n",
       "      <th id=\"T_6b6a9_level0_col1\" class=\"col_heading level0 col1\" >pajamas</th>\n",
       "      <th id=\"T_6b6a9_level0_col2\" class=\"col_heading level0 col2\" >bus</th>\n",
       "      <th id=\"T_6b6a9_level0_col3\" class=\"col_heading level0 col3\" >bread</th>\n",
       "      <th id=\"T_6b6a9_level0_col4\" class=\"col_heading level0 col4\" >lyric</th>\n",
       "      <th id=\"T_6b6a9_level0_col5\" class=\"col_heading level0 col5\" >paris</th>\n",
       "      <th id=\"T_6b6a9_level0_col6\" class=\"col_heading level0 col6\" >coin</th>\n",
       "    </tr>\n",
       "  </thead>\n",
       "  <tbody>\n",
       "    <tr>\n",
       "      <td id=\"T_6b6a9_row0_col0\" class=\"data row0 col0\" >pajamas</td>\n",
       "      <td id=\"T_6b6a9_row0_col1\" class=\"data row0 col1\" >1.0</td>\n",
       "      <td id=\"T_6b6a9_row0_col2\" class=\"data row0 col2\" >3.0</td>\n",
       "      <td id=\"T_6b6a9_row0_col3\" class=\"data row0 col3\" >2.0</td>\n",
       "      <td id=\"T_6b6a9_row0_col4\" class=\"data row0 col4\" >2.0</td>\n",
       "      <td id=\"T_6b6a9_row0_col5\" class=\"data row0 col5\" >1.5</td>\n",
       "      <td id=\"T_6b6a9_row0_col6\" class=\"data row0 col6\" >1.5</td>\n",
       "    </tr>\n",
       "    <tr>\n",
       "      <td id=\"T_6b6a9_row1_col0\" class=\"data row1 col0\" >bus</td>\n",
       "      <td id=\"T_6b6a9_row1_col1\" class=\"data row1 col1\" >3.0</td>\n",
       "      <td id=\"T_6b6a9_row1_col2\" class=\"data row1 col2\" >1.0</td>\n",
       "      <td id=\"T_6b6a9_row1_col3\" class=\"data row1 col3\" >2.0</td>\n",
       "      <td id=\"T_6b6a9_row1_col4\" class=\"data row1 col4\" >2.0</td>\n",
       "      <td id=\"T_6b6a9_row1_col5\" class=\"data row1 col5\" >1.5</td>\n",
       "      <td id=\"T_6b6a9_row1_col6\" class=\"data row1 col6\" >1.5</td>\n",
       "    </tr>\n",
       "    <tr>\n",
       "      <td id=\"T_6b6a9_row2_col0\" class=\"data row2 col0\" >bread</td>\n",
       "      <td id=\"T_6b6a9_row2_col1\" class=\"data row2 col1\" >2.0</td>\n",
       "      <td id=\"T_6b6a9_row2_col2\" class=\"data row2 col2\" >2.0</td>\n",
       "      <td id=\"T_6b6a9_row2_col3\" class=\"data row2 col3\" >1.0</td>\n",
       "      <td id=\"T_6b6a9_row2_col4\" class=\"data row2 col4\" >3.0</td>\n",
       "      <td id=\"T_6b6a9_row2_col5\" class=\"data row2 col5\" >1.5</td>\n",
       "      <td id=\"T_6b6a9_row2_col6\" class=\"data row2 col6\" >1.5</td>\n",
       "    </tr>\n",
       "    <tr>\n",
       "      <td id=\"T_6b6a9_row3_col0\" class=\"data row3 col0\" >lyric</td>\n",
       "      <td id=\"T_6b6a9_row3_col1\" class=\"data row3 col1\" >2.0</td>\n",
       "      <td id=\"T_6b6a9_row3_col2\" class=\"data row3 col2\" >2.0</td>\n",
       "      <td id=\"T_6b6a9_row3_col3\" class=\"data row3 col3\" >3.0</td>\n",
       "      <td id=\"T_6b6a9_row3_col4\" class=\"data row3 col4\" >1.0</td>\n",
       "      <td id=\"T_6b6a9_row3_col5\" class=\"data row3 col5\" >1.5</td>\n",
       "      <td id=\"T_6b6a9_row3_col6\" class=\"data row3 col6\" >1.5</td>\n",
       "    </tr>\n",
       "    <tr>\n",
       "      <td id=\"T_6b6a9_row4_col0\" class=\"data row4 col0\" >paris</td>\n",
       "      <td id=\"T_6b6a9_row4_col1\" class=\"data row4 col1\" >1.5</td>\n",
       "      <td id=\"T_6b6a9_row4_col2\" class=\"data row4 col2\" >1.5</td>\n",
       "      <td id=\"T_6b6a9_row4_col3\" class=\"data row4 col3\" >1.5</td>\n",
       "      <td id=\"T_6b6a9_row4_col4\" class=\"data row4 col4\" >1.5</td>\n",
       "      <td id=\"T_6b6a9_row4_col5\" class=\"data row4 col5\" >1.0</td>\n",
       "      <td id=\"T_6b6a9_row4_col6\" class=\"data row4 col6\" >2.0</td>\n",
       "    </tr>\n",
       "    <tr>\n",
       "      <td id=\"T_6b6a9_row5_col0\" class=\"data row5 col0\" >coin</td>\n",
       "      <td id=\"T_6b6a9_row5_col1\" class=\"data row5 col1\" >1.5</td>\n",
       "      <td id=\"T_6b6a9_row5_col2\" class=\"data row5 col2\" >1.5</td>\n",
       "      <td id=\"T_6b6a9_row5_col3\" class=\"data row5 col3\" >1.5</td>\n",
       "      <td id=\"T_6b6a9_row5_col4\" class=\"data row5 col4\" >1.5</td>\n",
       "      <td id=\"T_6b6a9_row5_col5\" class=\"data row5 col5\" >2.0</td>\n",
       "      <td id=\"T_6b6a9_row5_col6\" class=\"data row5 col6\" >1.0</td>\n",
       "    </tr>\n",
       "  </tbody>\n",
       "</table>\n",
       "</center>"
      ],
      "text/plain": [
       "<IPython.core.display.HTML object>"
      ]
     },
     "metadata": {},
     "output_type": "display_data"
    },
    {
     "data": {
      "text/html": [
       "\n",
       "            <a name\"table1\"></a>\n",
       "            <center style=\"font-size:14px;\n",
       "                           font-style:default;\">\n",
       "            <b>Table 1.</b> Proximity Matrix of Dormers.\n",
       "            </center>\n",
       "            <center style=\"font-size:12px;\"><i>\n",
       "            \n",
       "            </i></center>\n",
       "            "
      ],
      "text/plain": [
       "<IPython.core.display.HTML object>"
      ]
     },
     "metadata": {},
     "output_type": "display_data"
    }
   ],
   "source": [
    "df_P = get_proximity()"
   ]
  },
  {
   "cell_type": "code",
   "execution_count": 4,
   "id": "9ce00697-0b22-4fef-a853-064897c1df6c",
   "metadata": {
    "execution": {
     "iopub.execute_input": "2023-08-06T15:11:40.303058Z",
     "iopub.status.busy": "2023-08-06T15:11:40.302723Z",
     "iopub.status.idle": "2023-08-06T15:11:40.493310Z",
     "shell.execute_reply": "2023-08-06T15:11:40.492289Z",
     "shell.execute_reply.started": "2023-08-06T15:11:40.303036Z"
    },
    "tags": []
   },
   "outputs": [
    {
     "data": {
      "text/html": [
       "<img src=\"figures/figure1.png\" alt=\"plots\"style=\"display:block; margin-left:auto;margin-right:auto;width:100%;\">"
      ],
      "text/plain": [
       "<IPython.core.display.HTML object>"
      ]
     },
     "metadata": {},
     "output_type": "display_data"
    },
    {
     "data": {
      "text/html": [
       "\n",
       "            <a name\"fig1\"></a>\n",
       "            <center style=\"font-size:14px;\n",
       "                      font-style:default;\">\n",
       "            <b>Figure 1.</b> Network Illustration of the Dormers' Proximity.\n",
       "            </center>\n",
       "            <center style=\"font-size:12px;\"><i>\n",
       "            The graph illustrates how close the dormers are to each other\n",
       "            </i></center>\n",
       "            "
      ],
      "text/plain": [
       "<IPython.core.display.HTML object>"
      ]
     },
     "metadata": {},
     "output_type": "display_data"
    }
   ],
   "source": [
    "g_P = plot_proximity(df_P)"
   ]
  },
  {
   "cell_type": "markdown",
   "id": "c219197a-dd9d-429e-a77b-c956baaf7dcd",
   "metadata": {},
   "source": [
    "Next, define the Co-occurence Matrix, O, such that $0 \\le o_{i,j} \\le 1$ with $o_{i,j}$ representing the likelihood of $i$ and $j$ eating together. Hence, the greater the value of $o_{i,j}$, the more times $i$ and $j$ have eaten together and likely to reoccur. $o_{i,j}$ = 1 if $i$ = $j$ since you always eat with yourself."
   ]
  },
  {
   "cell_type": "code",
   "execution_count": 5,
   "id": "f68bbdff-369f-4f7b-8be7-a22945202159",
   "metadata": {
    "execution": {
     "iopub.execute_input": "2023-08-06T15:11:40.494771Z",
     "iopub.status.busy": "2023-08-06T15:11:40.494374Z",
     "iopub.status.idle": "2023-08-06T15:11:40.507846Z",
     "shell.execute_reply": "2023-08-06T15:11:40.506960Z",
     "shell.execute_reply.started": "2023-08-06T15:11:40.494749Z"
    },
    "tags": []
   },
   "outputs": [
    {
     "data": {
      "text/html": [
       "<center><style type=\"text/css\">\n",
       "#T_0a4c1 th.col_heading {\n",
       "  background-color: black;\n",
       "  color: white;\n",
       "  text-align: center;\n",
       "}\n",
       "#T_0a4c1 td {\n",
       "  background-color: white;\n",
       "  color: black;\n",
       "  text-align: center;\n",
       "}\n",
       "#T_0a4c1 tr {\n",
       "  border-left: 1px solid black;\n",
       "  border-right: 1px solid black;\n",
       "  border-bottom: 1px solid black;\n",
       "}\n",
       "#T_0a4c1 td {\n",
       "  border-left: 1px solid black;\n",
       "  border-right: 1px solid black;\n",
       "  border-bottom: 1px solid black;\n",
       "}\n",
       "</style>\n",
       "<table id=\"T_0a4c1\">\n",
       "  <thead>\n",
       "    <tr>\n",
       "      <th id=\"T_0a4c1_level0_col0\" class=\"col_heading level0 col0\" >dormers</th>\n",
       "      <th id=\"T_0a4c1_level0_col1\" class=\"col_heading level0 col1\" >pajamas</th>\n",
       "      <th id=\"T_0a4c1_level0_col2\" class=\"col_heading level0 col2\" >bus</th>\n",
       "      <th id=\"T_0a4c1_level0_col3\" class=\"col_heading level0 col3\" >bread</th>\n",
       "      <th id=\"T_0a4c1_level0_col4\" class=\"col_heading level0 col4\" >lyric</th>\n",
       "      <th id=\"T_0a4c1_level0_col5\" class=\"col_heading level0 col5\" >paris</th>\n",
       "      <th id=\"T_0a4c1_level0_col6\" class=\"col_heading level0 col6\" >coin</th>\n",
       "    </tr>\n",
       "  </thead>\n",
       "  <tbody>\n",
       "    <tr>\n",
       "      <td id=\"T_0a4c1_row0_col0\" class=\"data row0 col0\" >pajamas</td>\n",
       "      <td id=\"T_0a4c1_row0_col1\" class=\"data row0 col1\" >1.00</td>\n",
       "      <td id=\"T_0a4c1_row0_col2\" class=\"data row0 col2\" >0.70</td>\n",
       "      <td id=\"T_0a4c1_row0_col3\" class=\"data row0 col3\" >0.25</td>\n",
       "      <td id=\"T_0a4c1_row0_col4\" class=\"data row0 col4\" >0.05</td>\n",
       "      <td id=\"T_0a4c1_row0_col5\" class=\"data row0 col5\" >0.50</td>\n",
       "      <td id=\"T_0a4c1_row0_col6\" class=\"data row0 col6\" >0.50</td>\n",
       "    </tr>\n",
       "    <tr>\n",
       "      <td id=\"T_0a4c1_row1_col0\" class=\"data row1 col0\" >bus</td>\n",
       "      <td id=\"T_0a4c1_row1_col1\" class=\"data row1 col1\" >0.70</td>\n",
       "      <td id=\"T_0a4c1_row1_col2\" class=\"data row1 col2\" >1.00</td>\n",
       "      <td id=\"T_0a4c1_row1_col3\" class=\"data row1 col3\" >0.25</td>\n",
       "      <td id=\"T_0a4c1_row1_col4\" class=\"data row1 col4\" >0.05</td>\n",
       "      <td id=\"T_0a4c1_row1_col5\" class=\"data row1 col5\" >0.50</td>\n",
       "      <td id=\"T_0a4c1_row1_col6\" class=\"data row1 col6\" >0.50</td>\n",
       "    </tr>\n",
       "    <tr>\n",
       "      <td id=\"T_0a4c1_row2_col0\" class=\"data row2 col0\" >bread</td>\n",
       "      <td id=\"T_0a4c1_row2_col1\" class=\"data row2 col1\" >0.25</td>\n",
       "      <td id=\"T_0a4c1_row2_col2\" class=\"data row2 col2\" >0.25</td>\n",
       "      <td id=\"T_0a4c1_row2_col3\" class=\"data row2 col3\" >1.00</td>\n",
       "      <td id=\"T_0a4c1_row2_col4\" class=\"data row2 col4\" >0.05</td>\n",
       "      <td id=\"T_0a4c1_row2_col5\" class=\"data row2 col5\" >0.15</td>\n",
       "      <td id=\"T_0a4c1_row2_col6\" class=\"data row2 col6\" >0.15</td>\n",
       "    </tr>\n",
       "    <tr>\n",
       "      <td id=\"T_0a4c1_row3_col0\" class=\"data row3 col0\" >lyric</td>\n",
       "      <td id=\"T_0a4c1_row3_col1\" class=\"data row3 col1\" >0.05</td>\n",
       "      <td id=\"T_0a4c1_row3_col2\" class=\"data row3 col2\" >0.05</td>\n",
       "      <td id=\"T_0a4c1_row3_col3\" class=\"data row3 col3\" >0.05</td>\n",
       "      <td id=\"T_0a4c1_row3_col4\" class=\"data row3 col4\" >1.00</td>\n",
       "      <td id=\"T_0a4c1_row3_col5\" class=\"data row3 col5\" >0.05</td>\n",
       "      <td id=\"T_0a4c1_row3_col6\" class=\"data row3 col6\" >0.05</td>\n",
       "    </tr>\n",
       "    <tr>\n",
       "      <td id=\"T_0a4c1_row4_col0\" class=\"data row4 col0\" >paris</td>\n",
       "      <td id=\"T_0a4c1_row4_col1\" class=\"data row4 col1\" >0.50</td>\n",
       "      <td id=\"T_0a4c1_row4_col2\" class=\"data row4 col2\" >0.50</td>\n",
       "      <td id=\"T_0a4c1_row4_col3\" class=\"data row4 col3\" >0.15</td>\n",
       "      <td id=\"T_0a4c1_row4_col4\" class=\"data row4 col4\" >0.05</td>\n",
       "      <td id=\"T_0a4c1_row4_col5\" class=\"data row4 col5\" >1.00</td>\n",
       "      <td id=\"T_0a4c1_row4_col6\" class=\"data row4 col6\" >0.70</td>\n",
       "    </tr>\n",
       "    <tr>\n",
       "      <td id=\"T_0a4c1_row5_col0\" class=\"data row5 col0\" >coin</td>\n",
       "      <td id=\"T_0a4c1_row5_col1\" class=\"data row5 col1\" >0.50</td>\n",
       "      <td id=\"T_0a4c1_row5_col2\" class=\"data row5 col2\" >0.50</td>\n",
       "      <td id=\"T_0a4c1_row5_col3\" class=\"data row5 col3\" >0.15</td>\n",
       "      <td id=\"T_0a4c1_row5_col4\" class=\"data row5 col4\" >0.05</td>\n",
       "      <td id=\"T_0a4c1_row5_col5\" class=\"data row5 col5\" >0.70</td>\n",
       "      <td id=\"T_0a4c1_row5_col6\" class=\"data row5 col6\" >1.00</td>\n",
       "    </tr>\n",
       "  </tbody>\n",
       "</table>\n",
       "</center>"
      ],
      "text/plain": [
       "<IPython.core.display.HTML object>"
      ]
     },
     "metadata": {},
     "output_type": "display_data"
    },
    {
     "data": {
      "text/html": [
       "\n",
       "            <a name\"table2\"></a>\n",
       "            <center style=\"font-size:14px;\n",
       "                           font-style:default;\">\n",
       "            <b>Table 2.</b> Co-occurence Matrix of Dormers.\n",
       "            </center>\n",
       "            <center style=\"font-size:12px;\"><i>\n",
       "            \n",
       "            </i></center>\n",
       "            "
      ],
      "text/plain": [
       "<IPython.core.display.HTML object>"
      ]
     },
     "metadata": {},
     "output_type": "display_data"
    }
   ],
   "source": [
    "df_O = get_cooccurence()"
   ]
  },
  {
   "cell_type": "code",
   "execution_count": 6,
   "id": "aee84fb9-2bfa-4050-9eae-47cb973ca4ca",
   "metadata": {
    "execution": {
     "iopub.execute_input": "2023-08-06T15:11:40.509056Z",
     "iopub.status.busy": "2023-08-06T15:11:40.508711Z",
     "iopub.status.idle": "2023-08-06T15:11:40.639846Z",
     "shell.execute_reply": "2023-08-06T15:11:40.638855Z",
     "shell.execute_reply.started": "2023-08-06T15:11:40.509034Z"
    },
    "tags": []
   },
   "outputs": [
    {
     "data": {
      "text/html": [
       "<img src=\"figures/figure2.png\" alt=\"plots\"style=\"display:block; margin-left:auto;margin-right:auto;width:100%;\">"
      ],
      "text/plain": [
       "<IPython.core.display.HTML object>"
      ]
     },
     "metadata": {},
     "output_type": "display_data"
    },
    {
     "data": {
      "text/html": [
       "\n",
       "            <a name\"fig2\"></a>\n",
       "            <center style=\"font-size:14px;\n",
       "                      font-style:default;\">\n",
       "            <b>Figure 2.</b> Network Illustration of the Dormers' Proximity.\n",
       "            </center>\n",
       "            <center style=\"font-size:12px;\"><i>\n",
       "            The graph illustrates how often the dormers get to interact with to each other, showing how rarely lyric joins in group dinners\n",
       "            </i></center>\n",
       "            "
      ],
      "text/plain": [
       "<IPython.core.display.HTML object>"
      ]
     },
     "metadata": {},
     "output_type": "display_data"
    }
   ],
   "source": [
    "g_O = plot_occurence(df_O)"
   ]
  },
  {
   "cell_type": "markdown",
   "id": "9c7ede95-6bc1-4d10-b455-f924ea9f107b",
   "metadata": {},
   "source": [
    "Lastly, represent the Empathy Matrix, $E$, as $e_{i,j}$ = $p_{i,j} / o_{i,j}$, element-by-element division of Promixity Matrix by the Co-occurence Matrix. Each element in, $e_{i,j}$, now represents the empathic consideration $i$ and $j$ has for each other such that rarer an individual joins, the more novel the experience is treated and more consideration is given."
   ]
  },
  {
   "cell_type": "code",
   "execution_count": 7,
   "id": "bf57762a-bb30-4246-9bbf-5977f4a92b8e",
   "metadata": {
    "execution": {
     "iopub.execute_input": "2023-08-06T15:11:40.642544Z",
     "iopub.status.busy": "2023-08-06T15:11:40.642139Z",
     "iopub.status.idle": "2023-08-06T15:11:40.658251Z",
     "shell.execute_reply": "2023-08-06T15:11:40.657487Z",
     "shell.execute_reply.started": "2023-08-06T15:11:40.642521Z"
    },
    "tags": []
   },
   "outputs": [
    {
     "data": {
      "text/html": [
       "<center><style type=\"text/css\">\n",
       "#T_ea8ea th.col_heading {\n",
       "  background-color: black;\n",
       "  color: white;\n",
       "  text-align: center;\n",
       "}\n",
       "#T_ea8ea td {\n",
       "  background-color: white;\n",
       "  color: black;\n",
       "  text-align: center;\n",
       "}\n",
       "#T_ea8ea tr {\n",
       "  border-left: 1px solid black;\n",
       "  border-right: 1px solid black;\n",
       "  border-bottom: 1px solid black;\n",
       "}\n",
       "#T_ea8ea td {\n",
       "  border-left: 1px solid black;\n",
       "  border-right: 1px solid black;\n",
       "  border-bottom: 1px solid black;\n",
       "}\n",
       "</style>\n",
       "<table id=\"T_ea8ea\">\n",
       "  <thead>\n",
       "    <tr>\n",
       "      <th id=\"T_ea8ea_level0_col0\" class=\"col_heading level0 col0\" >dormers</th>\n",
       "      <th id=\"T_ea8ea_level0_col1\" class=\"col_heading level0 col1\" >pajamas</th>\n",
       "      <th id=\"T_ea8ea_level0_col2\" class=\"col_heading level0 col2\" >bus</th>\n",
       "      <th id=\"T_ea8ea_level0_col3\" class=\"col_heading level0 col3\" >bread</th>\n",
       "      <th id=\"T_ea8ea_level0_col4\" class=\"col_heading level0 col4\" >lyric</th>\n",
       "      <th id=\"T_ea8ea_level0_col5\" class=\"col_heading level0 col5\" >paris</th>\n",
       "      <th id=\"T_ea8ea_level0_col6\" class=\"col_heading level0 col6\" >coin</th>\n",
       "    </tr>\n",
       "  </thead>\n",
       "  <tbody>\n",
       "    <tr>\n",
       "      <td id=\"T_ea8ea_row0_col0\" class=\"data row0 col0\" >pajamas</td>\n",
       "      <td id=\"T_ea8ea_row0_col1\" class=\"data row0 col1\" >1.00</td>\n",
       "      <td id=\"T_ea8ea_row0_col2\" class=\"data row0 col2\" >4.29</td>\n",
       "      <td id=\"T_ea8ea_row0_col3\" class=\"data row0 col3\" >8.00</td>\n",
       "      <td id=\"T_ea8ea_row0_col4\" class=\"data row0 col4\" >40.00</td>\n",
       "      <td id=\"T_ea8ea_row0_col5\" class=\"data row0 col5\" >3.00</td>\n",
       "      <td id=\"T_ea8ea_row0_col6\" class=\"data row0 col6\" >3.00</td>\n",
       "    </tr>\n",
       "    <tr>\n",
       "      <td id=\"T_ea8ea_row1_col0\" class=\"data row1 col0\" >bus</td>\n",
       "      <td id=\"T_ea8ea_row1_col1\" class=\"data row1 col1\" >4.29</td>\n",
       "      <td id=\"T_ea8ea_row1_col2\" class=\"data row1 col2\" >1.00</td>\n",
       "      <td id=\"T_ea8ea_row1_col3\" class=\"data row1 col3\" >8.00</td>\n",
       "      <td id=\"T_ea8ea_row1_col4\" class=\"data row1 col4\" >40.00</td>\n",
       "      <td id=\"T_ea8ea_row1_col5\" class=\"data row1 col5\" >3.00</td>\n",
       "      <td id=\"T_ea8ea_row1_col6\" class=\"data row1 col6\" >3.00</td>\n",
       "    </tr>\n",
       "    <tr>\n",
       "      <td id=\"T_ea8ea_row2_col0\" class=\"data row2 col0\" >bread</td>\n",
       "      <td id=\"T_ea8ea_row2_col1\" class=\"data row2 col1\" >8.00</td>\n",
       "      <td id=\"T_ea8ea_row2_col2\" class=\"data row2 col2\" >8.00</td>\n",
       "      <td id=\"T_ea8ea_row2_col3\" class=\"data row2 col3\" >1.00</td>\n",
       "      <td id=\"T_ea8ea_row2_col4\" class=\"data row2 col4\" >60.00</td>\n",
       "      <td id=\"T_ea8ea_row2_col5\" class=\"data row2 col5\" >10.00</td>\n",
       "      <td id=\"T_ea8ea_row2_col6\" class=\"data row2 col6\" >10.00</td>\n",
       "    </tr>\n",
       "    <tr>\n",
       "      <td id=\"T_ea8ea_row3_col0\" class=\"data row3 col0\" >lyric</td>\n",
       "      <td id=\"T_ea8ea_row3_col1\" class=\"data row3 col1\" >40.00</td>\n",
       "      <td id=\"T_ea8ea_row3_col2\" class=\"data row3 col2\" >40.00</td>\n",
       "      <td id=\"T_ea8ea_row3_col3\" class=\"data row3 col3\" >60.00</td>\n",
       "      <td id=\"T_ea8ea_row3_col4\" class=\"data row3 col4\" >1.00</td>\n",
       "      <td id=\"T_ea8ea_row3_col5\" class=\"data row3 col5\" >30.00</td>\n",
       "      <td id=\"T_ea8ea_row3_col6\" class=\"data row3 col6\" >30.00</td>\n",
       "    </tr>\n",
       "    <tr>\n",
       "      <td id=\"T_ea8ea_row4_col0\" class=\"data row4 col0\" >paris</td>\n",
       "      <td id=\"T_ea8ea_row4_col1\" class=\"data row4 col1\" >3.00</td>\n",
       "      <td id=\"T_ea8ea_row4_col2\" class=\"data row4 col2\" >3.00</td>\n",
       "      <td id=\"T_ea8ea_row4_col3\" class=\"data row4 col3\" >10.00</td>\n",
       "      <td id=\"T_ea8ea_row4_col4\" class=\"data row4 col4\" >30.00</td>\n",
       "      <td id=\"T_ea8ea_row4_col5\" class=\"data row4 col5\" >1.00</td>\n",
       "      <td id=\"T_ea8ea_row4_col6\" class=\"data row4 col6\" >2.86</td>\n",
       "    </tr>\n",
       "    <tr>\n",
       "      <td id=\"T_ea8ea_row5_col0\" class=\"data row5 col0\" >coin</td>\n",
       "      <td id=\"T_ea8ea_row5_col1\" class=\"data row5 col1\" >3.00</td>\n",
       "      <td id=\"T_ea8ea_row5_col2\" class=\"data row5 col2\" >3.00</td>\n",
       "      <td id=\"T_ea8ea_row5_col3\" class=\"data row5 col3\" >10.00</td>\n",
       "      <td id=\"T_ea8ea_row5_col4\" class=\"data row5 col4\" >30.00</td>\n",
       "      <td id=\"T_ea8ea_row5_col5\" class=\"data row5 col5\" >2.86</td>\n",
       "      <td id=\"T_ea8ea_row5_col6\" class=\"data row5 col6\" >1.00</td>\n",
       "    </tr>\n",
       "  </tbody>\n",
       "</table>\n",
       "</center>"
      ],
      "text/plain": [
       "<IPython.core.display.HTML object>"
      ]
     },
     "metadata": {},
     "output_type": "display_data"
    },
    {
     "data": {
      "text/html": [
       "\n",
       "            <a name\"table3\"></a>\n",
       "            <center style=\"font-size:14px;\n",
       "                           font-style:default;\">\n",
       "            <b>Table 3.</b> Empathy Matrix of Dormers.\n",
       "            </center>\n",
       "            <center style=\"font-size:12px;\"><i>\n",
       "            \n",
       "            </i></center>\n",
       "            "
      ],
      "text/plain": [
       "<IPython.core.display.HTML object>"
      ]
     },
     "metadata": {},
     "output_type": "display_data"
    }
   ],
   "source": [
    "df_E = get_empathy(df_P, df_O)"
   ]
  },
  {
   "cell_type": "code",
   "execution_count": 8,
   "id": "1ed5b2b5-884f-4c63-a1a8-e0ccfc4767a2",
   "metadata": {
    "execution": {
     "iopub.execute_input": "2023-08-06T15:11:40.659267Z",
     "iopub.status.busy": "2023-08-06T15:11:40.659042Z",
     "iopub.status.idle": "2023-08-06T15:11:40.792620Z",
     "shell.execute_reply": "2023-08-06T15:11:40.791442Z",
     "shell.execute_reply.started": "2023-08-06T15:11:40.659245Z"
    },
    "tags": []
   },
   "outputs": [
    {
     "data": {
      "text/html": [
       "<img src=\"figures/figure3.png\" alt=\"plots\"style=\"display:block; margin-left:auto;margin-right:auto;width:100%;\">"
      ],
      "text/plain": [
       "<IPython.core.display.HTML object>"
      ]
     },
     "metadata": {},
     "output_type": "display_data"
    },
    {
     "data": {
      "text/html": [
       "\n",
       "            <a name\"fig3\"></a>\n",
       "            <center style=\"font-size:14px;\n",
       "                      font-style:default;\">\n",
       "            <b>Figure 3.</b> Network Illustration of the Dormers' Empathy.\n",
       "            </center>\n",
       "            <center style=\"font-size:12px;\"><i>\n",
       "            The graph illustrates how group tends to consider each other in social gatherings\n",
       "            </i></center>\n",
       "            "
      ],
      "text/plain": [
       "<IPython.core.display.HTML object>"
      ]
     },
     "metadata": {},
     "output_type": "display_data"
    }
   ],
   "source": [
    "g_E = plot_empathy(df_E)"
   ]
  },
  {
   "cell_type": "markdown",
   "id": "af46064c-b5f4-4dea-a56f-525706615df9",
   "metadata": {},
   "source": [
    "<br>\n",
    "<div class=\"center\" style=\"padding: 1px; height: 40px; background: #111111;\">\n",
    "    <h3 style=\"font-family:Copperplate, Papyrus, fantasy;\n",
    "               font-size:20px;\n",
    "               margin: 10px;\n",
    "               font-style:bold;\n",
    "               color:white;\">\n",
    "        Finding the Central Figures\n",
    "    </h3>\n",
    "</div>\n",
    "<br>\n",
    "\n",
    "Now that the Networks are established, we can now use Centrality Metrics to gain insights regarding the networks.\n",
    "\n",
    "One thing, to note is that these network are fully connected - that each node is directly connected to every other node in the network. Hence, metrices such Betweenness and Closeness would not yield much insights as these metrics are best used for organically sparsed networks.\n",
    "\n",
    "For this analysis, we're to use Eigenvector Centrality which takes into account not only the number of connections a node (which is uniform throughout the network) has but also the quality of those connections. \n",
    "\n",
    "In the context of proximity, this metric considers both the node's own proximity and the proximity of its connected neighbors and would rate nodes that are proximate towards other highly proximate nodes higher scores. Same can be said with Co-occurence and Empathy."
   ]
  },
  {
   "cell_type": "code",
   "execution_count": 9,
   "id": "e7258ee9-a42b-4bba-a2e0-50575a593ce2",
   "metadata": {
    "execution": {
     "iopub.execute_input": "2023-08-06T15:11:40.794194Z",
     "iopub.status.busy": "2023-08-06T15:11:40.793789Z",
     "iopub.status.idle": "2023-08-06T15:11:40.812965Z",
     "shell.execute_reply": "2023-08-06T15:11:40.812207Z",
     "shell.execute_reply.started": "2023-08-06T15:11:40.794171Z"
    },
    "tags": []
   },
   "outputs": [
    {
     "data": {
      "text/html": [
       "<center><style type=\"text/css\">\n",
       "#T_5916f th.col_heading {\n",
       "  background-color: black;\n",
       "  color: white;\n",
       "  text-align: center;\n",
       "}\n",
       "#T_5916f td {\n",
       "  background-color: white;\n",
       "  color: black;\n",
       "  text-align: center;\n",
       "}\n",
       "#T_5916f tr {\n",
       "  border-left: 1px solid black;\n",
       "  border-right: 1px solid black;\n",
       "  border-bottom: 1px solid black;\n",
       "}\n",
       "#T_5916f td {\n",
       "  border-left: 1px solid black;\n",
       "  border-right: 1px solid black;\n",
       "  border-bottom: 1px solid black;\n",
       "}\n",
       "</style>\n",
       "<table id=\"T_5916f\">\n",
       "  <thead>\n",
       "    <tr>\n",
       "      <th id=\"T_5916f_level0_col0\" class=\"col_heading level0 col0\" >Dormers</th>\n",
       "      <th id=\"T_5916f_level0_col1\" class=\"col_heading level0 col1\" >Proximity</th>\n",
       "      <th id=\"T_5916f_level0_col2\" class=\"col_heading level0 col2\" >Co-occurence</th>\n",
       "      <th id=\"T_5916f_level0_col3\" class=\"col_heading level0 col3\" >Empathy</th>\n",
       "    </tr>\n",
       "  </thead>\n",
       "  <tbody>\n",
       "    <tr>\n",
       "      <td id=\"T_5916f_row0_col0\" class=\"data row0 col0\" >pajamas</td>\n",
       "      <td id=\"T_5916f_row0_col1\" class=\"data row0 col1\" >0.434119</td>\n",
       "      <td id=\"T_5916f_row0_col2\" class=\"data row0 col2\" >0.492115</td>\n",
       "      <td id=\"T_5916f_row0_col3\" class=\"data row0 col3\" >0.316371</td>\n",
       "    </tr>\n",
       "    <tr>\n",
       "      <td id=\"T_5916f_row1_col0\" class=\"data row1 col0\" >bus</td>\n",
       "      <td id=\"T_5916f_row1_col1\" class=\"data row1 col1\" >0.434119</td>\n",
       "      <td id=\"T_5916f_row1_col2\" class=\"data row1 col2\" >0.492115</td>\n",
       "      <td id=\"T_5916f_row1_col3\" class=\"data row1 col3\" >0.316371</td>\n",
       "    </tr>\n",
       "    <tr>\n",
       "      <td id=\"T_5916f_row2_col0\" class=\"data row2 col0\" >bread</td>\n",
       "      <td id=\"T_5916f_row2_col1\" class=\"data row2 col1\" >0.434119</td>\n",
       "      <td id=\"T_5916f_row2_col2\" class=\"data row2 col2\" >0.219115</td>\n",
       "      <td id=\"T_5916f_row2_col3\" class=\"data row2 col3\" >0.476170</td>\n",
       "    </tr>\n",
       "    <tr>\n",
       "      <td id=\"T_5916f_row3_col0\" class=\"data row3 col0\" >lyric</td>\n",
       "      <td id=\"T_5916f_row3_col1\" class=\"data row3 col1\" >0.434119</td>\n",
       "      <td id=\"T_5916f_row3_col2\" class=\"data row3 col2\" >0.060315</td>\n",
       "      <td id=\"T_5916f_row3_col3\" class=\"data row3 col3\" >0.661917</td>\n",
       "    </tr>\n",
       "    <tr>\n",
       "      <td id=\"T_5916f_row4_col0\" class=\"data row4 col0\" >paris</td>\n",
       "      <td id=\"T_5916f_row4_col1\" class=\"data row4 col1\" >0.350830</td>\n",
       "      <td id=\"T_5916f_row4_col2\" class=\"data row4 col2\" >0.481662</td>\n",
       "      <td id=\"T_5916f_row4_col3\" class=\"data row4 col3\" >0.259756</td>\n",
       "    </tr>\n",
       "    <tr>\n",
       "      <td id=\"T_5916f_row5_col0\" class=\"data row5 col0\" >coin</td>\n",
       "      <td id=\"T_5916f_row5_col1\" class=\"data row5 col1\" >0.350830</td>\n",
       "      <td id=\"T_5916f_row5_col2\" class=\"data row5 col2\" >0.481662</td>\n",
       "      <td id=\"T_5916f_row5_col3\" class=\"data row5 col3\" >0.259756</td>\n",
       "    </tr>\n",
       "  </tbody>\n",
       "</table>\n",
       "</center>"
      ],
      "text/plain": [
       "<IPython.core.display.HTML object>"
      ]
     },
     "metadata": {},
     "output_type": "display_data"
    },
    {
     "data": {
      "text/html": [
       "\n",
       "            <a name\"table4\"></a>\n",
       "            <center style=\"font-size:14px;\n",
       "                           font-style:default;\">\n",
       "            <b>Table 4.</b> Summary Table of Eigenvector Centrality Scores.\n",
       "            </center>\n",
       "            <center style=\"font-size:12px;\"><i>\n",
       "            \n",
       "            </i></center>\n",
       "            "
      ],
      "text/plain": [
       "<IPython.core.display.HTML object>"
      ]
     },
     "metadata": {},
     "output_type": "display_data"
    }
   ],
   "source": [
    "df_central = get_centrality([g_P, g_O, g_E])"
   ]
  },
  {
   "cell_type": "markdown",
   "id": "069992b1-5982-40ca-ba5d-86668618b8ca",
   "metadata": {},
   "source": [
    "Based on the values shown in **Table 4. Summary Table of Eigenvector Centrality Scores.**:\n",
    "\n",
    "* For Proximity - is shows in the long-term consideration of proximity each dormer has with each other, it can be inferred that only the room assignments matter. This is evident in the equal scores earned by `pajamas`, `bus`, `bread`, and `lyric`, and `paris` with `coin`. The dormers are as equally important with respect to their roommates.\n",
    "\n",
    "* For Co-occurence - is highlight how minimal `lyris`'s contribution in overall quantity of gatherings due to his infrequent participation.\n",
    "\n",
    "* For Empathy - in this metric, however, it highlight how much consideration is given to `lyric`'s preferences as a form empathic social voting."
   ]
  },
  {
   "cell_type": "markdown",
   "id": "0ae9d4da-c2f8-49c3-a6f1-b3d84cd72895",
   "metadata": {},
   "source": [
    "***\n",
    "<div class=\"center\" style=\"padding: 1px; height: 60px; background: black;\">\n",
    "    <h2 style=\"font-family:Copperplate, Papyrus, fantasy;\n",
    "               font-size:30px;\n",
    "               margin: 15px;\n",
    "               font-style:bold;\n",
    "               color:white;\">\n",
    "        Insights and Reflection\n",
    "    </h2>\n",
    "</div>\n",
    "\n",
    "***\n",
    "\n",
    "<br>\n",
    "<div class=\"center\" style=\"padding: 1px; height: 40px; background: #111111;\">\n",
    "    <h3 style=\"font-family:Copperplate, Papyrus, fantasy;\n",
    "               font-size:20px;\n",
    "               margin: 10px;\n",
    "               font-style:bold;\n",
    "               color:white;\">\n",
    "        Calculating the Global Empathic Weights\n",
    "    </h3>\n",
    "</div>\n",
    "<br>\n",
    "\n",
    "Salehi-Abari *et al.*[2] recasts group concensus as a weighted voting framework. \n",
    "\n",
    "\n",
    "Let's first satisfy their assumptions. In a given weight matrix $W = [w_{j,k}]$:\n",
    "\n",
    "* Non-negativity: $w_{j,k} \\ge 0$ for any $j$ and $k$ (in this context, any pair of dormer)\n",
    "    \n",
    "* Normalization: $\\sum_{k} w_{j,k} = 1$ for all k (for all the dormers)\n",
    "\n",
    "* Positive Self-Loop: $w_{j,k} \\ge 0$ if $j$ = $k$ for any $j$ or $k$ (a dormer has a sense of obligation to himself)\n",
    "\n",
    "In a set of options, $A = \\{a_1,...,a_m\\}$:\n",
    "\\begin{align}\n",
    "\\\\u^I(a) & = \\text{vector of intrinsic or personal preferences of all the dormers for the given option, $a$.}\n",
    "\\\\u(a) & = \\text{vector of empathic consideration computed as function of u^I(a)}\n",
    "\\\\u(a) & = Wu^I(a)\n",
    "\\end{align}\n",
    "\n",
    "And in the global empathetic model:\n",
    "\\begin{align}\n",
    "\\\\u_j(a) &= w_{j,j}u^I_j(a) + \\sum_{k \\neq j} w_{j,k}u_{k}(a)\n",
    "\\end{align}\n",
    "\n",
    "Let:\n",
    "\\begin{align}\n",
    "\\\\D &= \\text{n × n diagonal matrix with $d_{j,j} = w_{j,j}$}\n",
    "\\end{align}\n",
    "\n",
    "Re-express $u(a)$ as:\n",
    "\\begin{align}\n",
    "\\\\u(a) &= (W−D)u(a) + Du^I(a)\n",
    "\\end{align}\n",
    "\n",
    "and as a consequence of all their assumptions, there exists a unique fixed-point solution:\n",
    "\n",
    "\\begin{align}\n",
    "\\\\u(a) &= (I-W+D)^{-1}Du^I(a)\n",
    "\\end{align}\n",
    "\n",
    "Finally, social welfare of an option, $a$, is given by:\n",
    "\\begin{align}\n",
    "\\\\sw_g(a;u^I) &= w^T\n",
    "\\\\\n",
    "\\\\\\text{where:}\n",
    "\\\\\n",
    "\\\\w^T &= e^T (I-W+D)^{-1}D\n",
    "\\\\w^T &= \\text{global empathic weights}\n",
    "\\end{align}\n",
    "\n",
    "\n",
    "\n",
    "Now, that the math has been established, let's implement it in our dormer empathic network.\n",
    "\n",
    "Assumptions `non-negativity` and `positive self-loop` are already satisfied, we only need to normalize the empathic network."
   ]
  },
  {
   "cell_type": "code",
   "execution_count": 10,
   "id": "1090dee2-81ce-4204-b8cc-0179d0da8f71",
   "metadata": {
    "execution": {
     "iopub.execute_input": "2023-08-06T15:11:40.814232Z",
     "iopub.status.busy": "2023-08-06T15:11:40.813845Z",
     "iopub.status.idle": "2023-08-06T15:11:40.824960Z",
     "shell.execute_reply": "2023-08-06T15:11:40.824104Z",
     "shell.execute_reply.started": "2023-08-06T15:11:40.814210Z"
    },
    "tags": []
   },
   "outputs": [
    {
     "data": {
      "text/html": [
       "<center><style type=\"text/css\">\n",
       "#T_167d5 th.col_heading {\n",
       "  background-color: black;\n",
       "  color: white;\n",
       "  text-align: center;\n",
       "}\n",
       "#T_167d5 td {\n",
       "  background-color: white;\n",
       "  color: black;\n",
       "  text-align: center;\n",
       "}\n",
       "#T_167d5 tr {\n",
       "  border-left: 1px solid black;\n",
       "  border-right: 1px solid black;\n",
       "  border-bottom: 1px solid black;\n",
       "}\n",
       "#T_167d5 td {\n",
       "  border-left: 1px solid black;\n",
       "  border-right: 1px solid black;\n",
       "  border-bottom: 1px solid black;\n",
       "}\n",
       "</style>\n",
       "<table id=\"T_167d5\">\n",
       "  <thead>\n",
       "    <tr>\n",
       "      <th id=\"T_167d5_level0_col0\" class=\"col_heading level0 col0\" >Dormers</th>\n",
       "      <th id=\"T_167d5_level0_col1\" class=\"col_heading level0 col1\" >Global Empathy Weights</th>\n",
       "    </tr>\n",
       "  </thead>\n",
       "  <tbody>\n",
       "    <tr>\n",
       "      <td id=\"T_167d5_row0_col0\" class=\"data row0 col0\" >pajamas</td>\n",
       "      <td id=\"T_167d5_row0_col1\" class=\"data row0 col1\" >1.000000</td>\n",
       "    </tr>\n",
       "    <tr>\n",
       "      <td id=\"T_167d5_row1_col0\" class=\"data row1 col0\" >bus</td>\n",
       "      <td id=\"T_167d5_row1_col1\" class=\"data row1 col1\" >1.000000</td>\n",
       "    </tr>\n",
       "    <tr>\n",
       "      <td id=\"T_167d5_row2_col0\" class=\"data row2 col0\" >bread</td>\n",
       "      <td id=\"T_167d5_row2_col1\" class=\"data row2 col1\" >1.000000</td>\n",
       "    </tr>\n",
       "    <tr>\n",
       "      <td id=\"T_167d5_row3_col0\" class=\"data row3 col0\" >lyric</td>\n",
       "      <td id=\"T_167d5_row3_col1\" class=\"data row3 col1\" >1.000000</td>\n",
       "    </tr>\n",
       "    <tr>\n",
       "      <td id=\"T_167d5_row4_col0\" class=\"data row4 col0\" >paris</td>\n",
       "      <td id=\"T_167d5_row4_col1\" class=\"data row4 col1\" >1.000000</td>\n",
       "    </tr>\n",
       "    <tr>\n",
       "      <td id=\"T_167d5_row5_col0\" class=\"data row5 col0\" >coin</td>\n",
       "      <td id=\"T_167d5_row5_col1\" class=\"data row5 col1\" >1.000000</td>\n",
       "    </tr>\n",
       "  </tbody>\n",
       "</table>\n",
       "</center>"
      ],
      "text/plain": [
       "<IPython.core.display.HTML object>"
      ]
     },
     "metadata": {},
     "output_type": "display_data"
    },
    {
     "data": {
      "text/html": [
       "\n",
       "            <a name\"table5\"></a>\n",
       "            <center style=\"font-size:14px;\n",
       "                           font-style:default;\">\n",
       "            <b>Table 5.</b> Table of Global Emphatic Weights.\n",
       "            </center>\n",
       "            <center style=\"font-size:12px;\"><i>\n",
       "            \n",
       "            </i></center>\n",
       "            "
      ],
      "text/plain": [
       "<IPython.core.display.HTML object>"
      ]
     },
     "metadata": {},
     "output_type": "display_data"
    }
   ],
   "source": [
    "df_w = get_weights(df_E)"
   ]
  },
  {
   "cell_type": "markdown",
   "id": "367b95e0-4529-4427-a1ef-9b08a2342e96",
   "metadata": {},
   "source": [
    "Surprising enough, as shown in **Table 5. Table of Global Emphatic Weights.**, social welfare is maximized if the dormers equally consider each others' preferences. This may be attributed to the way I defined the network wherein any pair of dormer equally considers each other.\n",
    "\n",
    "Let's test that hypothesis and implement the same process on a modified, directional Empathy Network."
   ]
  },
  {
   "cell_type": "code",
   "execution_count": 11,
   "id": "c606c3fa-38d8-4f9a-b8bf-60141b1f966d",
   "metadata": {
    "execution": {
     "iopub.execute_input": "2023-08-06T15:11:40.826471Z",
     "iopub.status.busy": "2023-08-06T15:11:40.826040Z",
     "iopub.status.idle": "2023-08-06T15:11:41.150090Z",
     "shell.execute_reply": "2023-08-06T15:11:41.148471Z",
     "shell.execute_reply.started": "2023-08-06T15:11:40.826444Z"
    },
    "tags": []
   },
   "outputs": [
    {
     "data": {
      "text/html": [
       "<center><style type=\"text/css\">\n",
       "#T_00645 th.col_heading {\n",
       "  background-color: black;\n",
       "  color: white;\n",
       "  text-align: center;\n",
       "}\n",
       "#T_00645 td {\n",
       "  background-color: white;\n",
       "  color: black;\n",
       "  text-align: center;\n",
       "}\n",
       "#T_00645 tr {\n",
       "  border-left: 1px solid black;\n",
       "  border-right: 1px solid black;\n",
       "  border-bottom: 1px solid black;\n",
       "}\n",
       "#T_00645 td {\n",
       "  border-left: 1px solid black;\n",
       "  border-right: 1px solid black;\n",
       "  border-bottom: 1px solid black;\n",
       "}\n",
       "</style>\n",
       "<table id=\"T_00645\">\n",
       "  <thead>\n",
       "    <tr>\n",
       "      <th id=\"T_00645_level0_col0\" class=\"col_heading level0 col0\" >dormers</th>\n",
       "      <th id=\"T_00645_level0_col1\" class=\"col_heading level0 col1\" >pajamas</th>\n",
       "      <th id=\"T_00645_level0_col2\" class=\"col_heading level0 col2\" >bus</th>\n",
       "      <th id=\"T_00645_level0_col3\" class=\"col_heading level0 col3\" >bread</th>\n",
       "      <th id=\"T_00645_level0_col4\" class=\"col_heading level0 col4\" >lyric</th>\n",
       "      <th id=\"T_00645_level0_col5\" class=\"col_heading level0 col5\" >paris</th>\n",
       "      <th id=\"T_00645_level0_col6\" class=\"col_heading level0 col6\" >coin</th>\n",
       "    </tr>\n",
       "  </thead>\n",
       "  <tbody>\n",
       "    <tr>\n",
       "      <td id=\"T_00645_row0_col0\" class=\"data row0 col0\" >pajamas</td>\n",
       "      <td id=\"T_00645_row0_col1\" class=\"data row0 col1\" >1.00</td>\n",
       "      <td id=\"T_00645_row0_col2\" class=\"data row0 col2\" >1.00</td>\n",
       "      <td id=\"T_00645_row0_col3\" class=\"data row0 col3\" >1.00</td>\n",
       "      <td id=\"T_00645_row0_col4\" class=\"data row0 col4\" >1.00</td>\n",
       "      <td id=\"T_00645_row0_col5\" class=\"data row0 col5\" >1.00</td>\n",
       "      <td id=\"T_00645_row0_col6\" class=\"data row0 col6\" >1.00</td>\n",
       "    </tr>\n",
       "    <tr>\n",
       "      <td id=\"T_00645_row1_col0\" class=\"data row1 col0\" >bus</td>\n",
       "      <td id=\"T_00645_row1_col1\" class=\"data row1 col1\" >2.00</td>\n",
       "      <td id=\"T_00645_row1_col2\" class=\"data row1 col2\" >1.00</td>\n",
       "      <td id=\"T_00645_row1_col3\" class=\"data row1 col3\" >5.00</td>\n",
       "      <td id=\"T_00645_row1_col4\" class=\"data row1 col4\" >5.00</td>\n",
       "      <td id=\"T_00645_row1_col5\" class=\"data row1 col5\" >2.00</td>\n",
       "      <td id=\"T_00645_row1_col6\" class=\"data row1 col6\" >2.00</td>\n",
       "    </tr>\n",
       "    <tr>\n",
       "      <td id=\"T_00645_row2_col0\" class=\"data row2 col0\" >bread</td>\n",
       "      <td id=\"T_00645_row2_col1\" class=\"data row2 col1\" >3.00</td>\n",
       "      <td id=\"T_00645_row2_col2\" class=\"data row2 col2\" >3.00</td>\n",
       "      <td id=\"T_00645_row2_col3\" class=\"data row2 col3\" >1.00</td>\n",
       "      <td id=\"T_00645_row2_col4\" class=\"data row2 col4\" >10.00</td>\n",
       "      <td id=\"T_00645_row2_col5\" class=\"data row2 col5\" >3.00</td>\n",
       "      <td id=\"T_00645_row2_col6\" class=\"data row2 col6\" >3.00</td>\n",
       "    </tr>\n",
       "    <tr>\n",
       "      <td id=\"T_00645_row3_col0\" class=\"data row3 col0\" >lyric</td>\n",
       "      <td id=\"T_00645_row3_col1\" class=\"data row3 col1\" >0.00</td>\n",
       "      <td id=\"T_00645_row3_col2\" class=\"data row3 col2\" >0.00</td>\n",
       "      <td id=\"T_00645_row3_col3\" class=\"data row3 col3\" >0.00</td>\n",
       "      <td id=\"T_00645_row3_col4\" class=\"data row3 col4\" >1.00</td>\n",
       "      <td id=\"T_00645_row3_col5\" class=\"data row3 col5\" >0.00</td>\n",
       "      <td id=\"T_00645_row3_col6\" class=\"data row3 col6\" >0.00</td>\n",
       "    </tr>\n",
       "    <tr>\n",
       "      <td id=\"T_00645_row4_col0\" class=\"data row4 col0\" >paris</td>\n",
       "      <td id=\"T_00645_row4_col1\" class=\"data row4 col1\" >2.00</td>\n",
       "      <td id=\"T_00645_row4_col2\" class=\"data row4 col2\" >2.00</td>\n",
       "      <td id=\"T_00645_row4_col3\" class=\"data row4 col3\" >5.00</td>\n",
       "      <td id=\"T_00645_row4_col4\" class=\"data row4 col4\" >5.00</td>\n",
       "      <td id=\"T_00645_row4_col5\" class=\"data row4 col5\" >1.00</td>\n",
       "      <td id=\"T_00645_row4_col6\" class=\"data row4 col6\" >2.00</td>\n",
       "    </tr>\n",
       "    <tr>\n",
       "      <td id=\"T_00645_row5_col0\" class=\"data row5 col0\" >coin</td>\n",
       "      <td id=\"T_00645_row5_col1\" class=\"data row5 col1\" >3.00</td>\n",
       "      <td id=\"T_00645_row5_col2\" class=\"data row5 col2\" >3.00</td>\n",
       "      <td id=\"T_00645_row5_col3\" class=\"data row5 col3\" >1.00</td>\n",
       "      <td id=\"T_00645_row5_col4\" class=\"data row5 col4\" >1.00</td>\n",
       "      <td id=\"T_00645_row5_col5\" class=\"data row5 col5\" >5.00</td>\n",
       "      <td id=\"T_00645_row5_col6\" class=\"data row5 col6\" >1.00</td>\n",
       "    </tr>\n",
       "  </tbody>\n",
       "</table>\n",
       "</center>"
      ],
      "text/plain": [
       "<IPython.core.display.HTML object>"
      ]
     },
     "metadata": {},
     "output_type": "display_data"
    },
    {
     "data": {
      "text/html": [
       "\n",
       "            <a name\"table6\"></a>\n",
       "            <center style=\"font-size:14px;\n",
       "                           font-style:default;\">\n",
       "            <b>Table 6.</b> Modified Empathy Matrix of Dormers.\n",
       "            </center>\n",
       "            <center style=\"font-size:12px;\"><i>\n",
       "            \n",
       "            </i></center>\n",
       "            "
      ],
      "text/plain": [
       "<IPython.core.display.HTML object>"
      ]
     },
     "metadata": {},
     "output_type": "display_data"
    }
   ],
   "source": [
    "df_M = get_modified()"
   ]
  },
  {
   "cell_type": "markdown",
   "id": "a07aaff2-7779-44ec-b27b-7762fce6c028",
   "metadata": {},
   "source": [
    "In **Table 6. Modified Empathy Matrix of Dormers.**:\n",
    "\n",
    "* `pajamas` has no particular inclination.\n",
    "* `bus` and `paris` tend to consider more that relative infrequent participants.\n",
    "* `bread` is highly accommodating of `lyric`.\n",
    "* `lyric` only thinks of his preferences.\n",
    "* `coin` cares more of his roommate's opinion"
   ]
  },
  {
   "cell_type": "code",
   "execution_count": 12,
   "id": "70235296-24fd-435e-a27e-6b388e028219",
   "metadata": {
    "execution": {
     "iopub.execute_input": "2023-08-06T15:11:41.152392Z",
     "iopub.status.busy": "2023-08-06T15:11:41.151875Z",
     "iopub.status.idle": "2023-08-06T15:11:41.422166Z",
     "shell.execute_reply": "2023-08-06T15:11:41.421154Z",
     "shell.execute_reply.started": "2023-08-06T15:11:41.152344Z"
    },
    "tags": []
   },
   "outputs": [
    {
     "data": {
      "text/html": [
       "<img src=\"figures/figure4.png\" alt=\"plots\"style=\"display:block; margin-left:auto;margin-right:auto;width:100%;\">"
      ],
      "text/plain": [
       "<IPython.core.display.HTML object>"
      ]
     },
     "metadata": {},
     "output_type": "display_data"
    },
    {
     "data": {
      "text/html": [
       "\n",
       "            <a name\"fig4\"></a>\n",
       "            <center style=\"font-size:14px;\n",
       "                      font-style:default;\">\n",
       "            <b>Figure 4.</b> Network Illustration of the Dormers' Modified Empathy.\n",
       "            </center>\n",
       "            <center style=\"font-size:12px;\"><i>\n",
       "            The graph illustrates how the group, artificially, consider each other\n",
       "            </i></center>\n",
       "            "
      ],
      "text/plain": [
       "<IPython.core.display.HTML object>"
      ]
     },
     "metadata": {},
     "output_type": "display_data"
    }
   ],
   "source": [
    "g_M = plot_modified(df_M)"
   ]
  },
  {
   "cell_type": "code",
   "execution_count": 13,
   "id": "ccb1eda9-efba-485d-9a66-f14de3e6a348",
   "metadata": {
    "execution": {
     "iopub.execute_input": "2023-08-06T15:11:41.423331Z",
     "iopub.status.busy": "2023-08-06T15:11:41.423090Z",
     "iopub.status.idle": "2023-08-06T15:11:41.438177Z",
     "shell.execute_reply": "2023-08-06T15:11:41.437126Z",
     "shell.execute_reply.started": "2023-08-06T15:11:41.423309Z"
    },
    "tags": []
   },
   "outputs": [
    {
     "data": {
      "text/html": [
       "<center><style type=\"text/css\">\n",
       "#T_9f15e th.col_heading {\n",
       "  background-color: black;\n",
       "  color: white;\n",
       "  text-align: center;\n",
       "}\n",
       "#T_9f15e td {\n",
       "  background-color: white;\n",
       "  color: black;\n",
       "  text-align: center;\n",
       "}\n",
       "#T_9f15e tr {\n",
       "  border-left: 1px solid black;\n",
       "  border-right: 1px solid black;\n",
       "  border-bottom: 1px solid black;\n",
       "}\n",
       "#T_9f15e td {\n",
       "  border-left: 1px solid black;\n",
       "  border-right: 1px solid black;\n",
       "  border-bottom: 1px solid black;\n",
       "}\n",
       "</style>\n",
       "<table id=\"T_9f15e\">\n",
       "  <thead>\n",
       "    <tr>\n",
       "      <th id=\"T_9f15e_level0_col0\" class=\"col_heading level0 col0\" >Dormers</th>\n",
       "      <th id=\"T_9f15e_level0_col1\" class=\"col_heading level0 col1\" >Global Empathy Weights</th>\n",
       "      <th id=\"T_9f15e_level0_col2\" class=\"col_heading level0 col2\" >Eigenvector Centrality</th>\n",
       "    </tr>\n",
       "  </thead>\n",
       "  <tbody>\n",
       "    <tr>\n",
       "      <td id=\"T_9f15e_row0_col0\" class=\"data row0 col0\" >pajamas</td>\n",
       "      <td id=\"T_9f15e_row0_col1\" class=\"data row0 col1\" >0.583333</td>\n",
       "      <td id=\"T_9f15e_row0_col2\" class=\"data row0 col2\" >0.308067</td>\n",
       "    </tr>\n",
       "    <tr>\n",
       "      <td id=\"T_9f15e_row1_col0\" class=\"data row1 col0\" >bus</td>\n",
       "      <td id=\"T_9f15e_row1_col1\" class=\"data row1 col1\" >1.395833</td>\n",
       "      <td id=\"T_9f15e_row1_col2\" class=\"data row1 col2\" >0.282399</td>\n",
       "    </tr>\n",
       "    <tr>\n",
       "      <td id=\"T_9f15e_row2_col0\" class=\"data row2 col0\" >bread</td>\n",
       "      <td id=\"T_9f15e_row2_col1\" class=\"data row2 col1\" >1.206522</td>\n",
       "      <td id=\"T_9f15e_row2_col2\" class=\"data row2 col2\" >0.360922</td>\n",
       "    </tr>\n",
       "    <tr>\n",
       "      <td id=\"T_9f15e_row3_col0\" class=\"data row3 col0\" >lyric</td>\n",
       "      <td id=\"T_9f15e_row3_col1\" class=\"data row3 col1\" >0.043478</td>\n",
       "      <td id=\"T_9f15e_row3_col2\" class=\"data row3 col2\" >0.721773</td>\n",
       "    </tr>\n",
       "    <tr>\n",
       "      <td id=\"T_9f15e_row4_col0\" class=\"data row4 col0\" >paris</td>\n",
       "      <td id=\"T_9f15e_row4_col1\" class=\"data row4 col1\" >1.196429</td>\n",
       "      <td id=\"T_9f15e_row4_col2\" class=\"data row4 col2\" >0.325839</td>\n",
       "    </tr>\n",
       "    <tr>\n",
       "      <td id=\"T_9f15e_row5_col0\" class=\"data row5 col0\" >coin</td>\n",
       "      <td id=\"T_9f15e_row5_col1\" class=\"data row5 col1\" >1.574405</td>\n",
       "      <td id=\"T_9f15e_row5_col2\" class=\"data row5 col2\" >0.260679</td>\n",
       "    </tr>\n",
       "  </tbody>\n",
       "</table>\n",
       "</center>"
      ],
      "text/plain": [
       "<IPython.core.display.HTML object>"
      ]
     },
     "metadata": {},
     "output_type": "display_data"
    },
    {
     "data": {
      "text/html": [
       "\n",
       "            <a name\"table7\"></a>\n",
       "            <center style=\"font-size:14px;\n",
       "                           font-style:default;\">\n",
       "            <b>Table 7.</b> Summary Table for Modified Empathy Matrix.\n",
       "            </center>\n",
       "            <center style=\"font-size:12px;\"><i>\n",
       "            \n",
       "            </i></center>\n",
       "            "
      ],
      "text/plain": [
       "<IPython.core.display.HTML object>"
      ]
     },
     "metadata": {},
     "output_type": "display_data"
    }
   ],
   "source": [
    "df_final = summarize_modifed(df_M, g_M)"
   ]
  },
  {
   "cell_type": "markdown",
   "id": "0276ab2b-370f-4bd2-a7b3-7a2e3f41e236",
   "metadata": {},
   "source": [
    "From **Table 7. Summary Table for Modified Empathy Matrix.**:\n",
    "\n",
    "* Though `lyric` is central to the groups' considerations by a large margin, to maximize social welfare, it is best to minimize consideration of his preferences. This suggests that in order to maintain harmony in a group, it is better to prioritize opinion of those who also consider others.\n",
    "\n",
    "* The propagation of empathic considerations may be observed in the global empathic weights of both `bus` and `paris`. In my intuition, their scores where 'punished' due to their strong consideration for `lyric` whose views are detrimental to the social welfare. \n",
    "\n",
    "* `pajamas` got a relatively low score due to his indifference to everyone in the group."
   ]
  },
  {
   "cell_type": "markdown",
   "id": "37c0042b",
   "metadata": {
    "ExecuteTime": {
     "end_time": "2023-05-29T01:47:26.422870Z",
     "start_time": "2023-05-29T01:47:25.591605Z"
    }
   },
   "source": [
    "***\n",
    "<div class=\"header\" style=\"\n",
    "  padding: 20px;\n",
    "  background: black;\">\n",
    "    <h2 style=\"font-family:Copperplate, Papyrus, fantasy;\n",
    "               font-size:30px;\n",
    "               font-style:bold;\n",
    "               color:white;\">\n",
    "        Conclusion\n",
    "    </h2>\n",
    "</div>\n",
    "\n",
    "***\n",
    "\n",
    "Mind-blowing! When I started reading up on social choice theory, I did not expect that the results were be this interesting. Some of my findings were definite surprising to say the least but in summary:\n",
    "\n",
    "* Using eigenvector centrality metric, I was able to infer the central figures for each type of matrix that were defined and computed. `lyric` was the least central figure for co-occurence due to his infrequent participation.\n",
    "\n",
    "* Due to the equal consideration of each dormer for each other's preferences, `Empathic Social Choice` was able to conclude that it was best to consider the opinions of each individual equally, making the voting framework anonymous. This is particularly interesting as `Empathic Social Choice` explores the notion that social welfare is maximized if we condsider the overall dynamic of a group based on their inclinations.\n",
    "\n",
    "* Lastly, `Empathic Social Choice` was able to account for the social welfare of group as observed in the results of modified emphatic matrix. `lyric` was given minimal priority due to his inconsideration and `bus` & `paris`, though considerate, were punished due to their consideration of `lyric`. `pajamas`' indifference earned him low empathic weights. \n",
    "\n",
    "Although, it was not explored here, it would be interesting to see if the actual `intrinsic preference matrix` were used in conjunction with the calculated weights. I would definitely consider revisiting this notion."
   ]
  },
  {
   "cell_type": "markdown",
   "id": "ed22099b",
   "metadata": {
    "ExecuteTime": {
     "end_time": "2023-05-29T01:47:26.422870Z",
     "start_time": "2023-05-29T01:47:25.591605Z"
    }
   },
   "source": [
    "***\n",
    "<div class=\"header\" style=\"\n",
    "  padding: 20px;\n",
    "  background: black;\">\n",
    "    <h2 style=\"font-family:Copperplate, Papyrus, fantasy;\n",
    "               font-size:30px;\n",
    "               font-style:bold;\n",
    "               color:white;\">\n",
    "        References\n",
    "    </h2>\n",
    "</div>\n",
    "\n",
    "***\n",
    "\n",
    "[1] Social Choice Theory (Stanford Encyclopedia of Philosophy). (2022, October 14). https://plato.stanford.edu/entries/social-choice/\n",
    "\n",
    "[2] Salehi-Abari, A., & Boutilier, C. (2014). Empathetic social choice on social networks. Adaptive Agents and Multi-Agent Systems."
   ]
  }
 ],
 "metadata": {
  "kernelspec": {
   "display_name": "Python 3 (ipykernel)",
   "language": "python",
   "name": "python3"
  },
  "language_info": {
   "codemirror_mode": {
    "name": "ipython",
    "version": 3
   },
   "file_extension": ".py",
   "mimetype": "text/x-python",
   "name": "python",
   "nbconvert_exporter": "python",
   "pygments_lexer": "ipython3",
   "version": "3.10.12"
  },
  "toc": {
   "base_numbering": "",
   "nav_menu": {},
   "number_sections": false,
   "sideBar": true,
   "skip_h1_title": false,
   "title_cell": "Table of Contents",
   "title_sidebar": "Contents",
   "toc_cell": false,
   "toc_position": {
    "height": "calc(100% - 180px)",
    "left": "10px",
    "top": "150px",
    "width": "185.625px"
   },
   "toc_section_display": true,
   "toc_window_display": true
  },
  "widgets": {
   "application/vnd.jupyter.widget-state+json": {
    "state": {},
    "version_major": 2,
    "version_minor": 0
   }
  }
 },
 "nbformat": 4,
 "nbformat_minor": 5
}
